{
  "nbformat": 4,
  "nbformat_minor": 0,
  "metadata": {
    "colab": {
      "provenance": [],
      "authorship_tag": "ABX9TyMe7C4jNC/L1O1LwYQl4Bio",
      "include_colab_link": true
    },
    "kernelspec": {
      "name": "python3",
      "display_name": "Python 3"
    },
    "language_info": {
      "name": "python"
    }
  },
  "cells": [
    {
      "cell_type": "markdown",
      "metadata": {
        "id": "view-in-github",
        "colab_type": "text"
      },
      "source": [
        "<a href=\"https://colab.research.google.com/github/walkeradonis/landing_example/blob/master/Proyectoparade.ipynb\" target=\"_parent\"><img src=\"https://colab.research.google.com/assets/colab-badge.svg\" alt=\"Open In Colab\"/></a>"
      ]
    },
    {
      "cell_type": "code",
      "execution_count": 1,
      "metadata": {
        "colab": {
          "base_uri": "https://localhost:8080/"
        },
        "id": "sN9RCXXLbELy",
        "outputId": "39843f09-e05e-4de9-dbd7-f34f3afe0847"
      },
      "outputs": [
        {
          "output_type": "stream",
          "name": "stdout",
          "text": [
            "Requirement already satisfied: pandas in /usr/local/lib/python3.11/dist-packages (2.2.2)\n",
            "Requirement already satisfied: numpy>=1.23.2 in /usr/local/lib/python3.11/dist-packages (from pandas) (2.0.2)\n",
            "Requirement already satisfied: python-dateutil>=2.8.2 in /usr/local/lib/python3.11/dist-packages (from pandas) (2.9.0.post0)\n",
            "Requirement already satisfied: pytz>=2020.1 in /usr/local/lib/python3.11/dist-packages (from pandas) (2025.2)\n",
            "Requirement already satisfied: tzdata>=2022.7 in /usr/local/lib/python3.11/dist-packages (from pandas) (2025.2)\n",
            "Requirement already satisfied: six>=1.5 in /usr/local/lib/python3.11/dist-packages (from python-dateutil>=2.8.2->pandas) (1.17.0)\n"
          ]
        }
      ],
      "source": [
        "pip install pandas"
      ]
    },
    {
      "cell_type": "markdown",
      "source": [
        "Ejercicio 1:"
      ],
      "metadata": {
        "id": "LVCepGqqbP-K"
      }
    },
    {
      "cell_type": "markdown",
      "source": [
        "Utiliza Pandas y el conjunto de datos público de COVID-19 proporcionado por la\n",
        "Universidad de Johns Hopkins para realizar las siguientes tareas:\n",
        "a) Descarga los datos de COVID-19 en formato CSV o JSON desde la URL\n",
        "pública.\n",
        "b) Carga los datos en un DataFrame de Pandas.\n",
        "c) Calcula el promedio de casos confirmados por día en un país específico.\n",
        "d) Encuentra los 10 países con la tasa de mortalidad más alta (número de\n",
        "muertes / número de casos confirmados) hasta la fecha.\n",
        "Puedes encontrar el conjunto de datos de COVID-19 en la URL pública, como la\n",
        "ofrecida por la Universidad de Johns Hopkins:\n",
        "https://github.com/CSSEGISandData/COVID-19\n"
      ],
      "metadata": {
        "id": "K1QHC2RkbaRR"
      }
    },
    {
      "cell_type": "code",
      "source": [
        "import pandas as pd\n",
        "import requests\n",
        "from io import StringIO\n",
        "\n",
        "# inciso a: Descargar los datos de casos confirmados, muertes y recuperados.\n",
        "base_url = \"https://raw.githubusercontent.com/CSSEGISandData/COVID-19/master/\"\n",
        "confirmed_url = base_url + \"csse_covid_19_data/csse_covid_19_time_series/time_series_covid19_confirmed_global.csv\"\n",
        "deaths_url = base_url + \"csse_covid_19_data/csse_covid_19_time_series/time_series_covid19_deaths_global.csv\"\n",
        "\n",
        "# inciso b: Descargar datos en dataframes\n",
        "confirmed_df = pd.read_csv(confirmed_url)\n",
        "deaths_df = pd.read_csv(deaths_url)\n",
        "\n",
        "# inciso c: Promedio de casos confirmados por día para un país específico, en este ejemplo, use a Guatemala\n",
        "def avg_daily_cases(country):\n",
        "    country_data = confirmed_df[confirmed_df['Country/Region'] == country]\n",
        "    daily_cases = country_data.iloc[:, 4:].sum()\n",
        "    daily_new_cases = daily_cases.diff().fillna(0)\n",
        "    average = daily_new_cases.mean()\n",
        "    return average\n",
        "\n",
        "print(\"Promedio de casos diarios en Guatemala:\", avg_daily_cases(\"Guatemala\"))\n",
        "\n",
        "# Agrupar por pais\n",
        "confirmed_latest = confirmed_df.groupby('Country/Region').sum().iloc[:, -1]\n",
        "deaths_latest = deaths_df.groupby('Country/Region').sum().iloc[:, -1]\n",
        "\n",
        "# Calculo de la tasa de mortalidad\n",
        "mortality_rate = (deaths_latest / confirmed_latest).fillna(0).replace([float('inf'), -float('inf')], 0)\n",
        "top_10_mortality_countries = mortality_rate.sort_values(ascending=False).head(10)\n",
        "\n",
        "# inciso d: impresion de tasa de mortalidad\n",
        "print(\"\\nLos 10 países con mayor tasa de mortalidad:\")\n",
        "print(top_10_mortality_countries)\n"
      ],
      "metadata": {
        "colab": {
          "base_uri": "https://localhost:8080/"
        },
        "id": "rfuUKpxabR99",
        "outputId": "beca6187-01f4-4f82-ba9f-adc4d98a14f3"
      },
      "execution_count": 2,
      "outputs": [
        {
          "output_type": "stream",
          "name": "stdout",
          "text": [
            "Promedio de casos diarios en Guatemala: 1083.3307086614172\n",
            "\n",
            "Los 10 países con mayor tasa de mortalidad:\n",
            "Country/Region\n",
            "Korea, North              6.000000\n",
            "MS Zaandam                0.222222\n",
            "Yemen                     0.180745\n",
            "Sudan                     0.078601\n",
            "Syria                     0.055058\n",
            "Somalia                   0.049810\n",
            "Peru                      0.048922\n",
            "Egypt                     0.048108\n",
            "Mexico                    0.044523\n",
            "Bosnia and Herzegovina    0.040525\n",
            "Name: 3/9/23, dtype: float64\n"
          ]
        }
      ]
    },
    {
      "cell_type": "code",
      "source": [
        "pip install pyspark"
      ],
      "metadata": {
        "colab": {
          "base_uri": "https://localhost:8080/"
        },
        "id": "MHZtu2mwbtTd",
        "outputId": "1a46da3d-5fff-4c1c-df4e-9f20dfc91459"
      },
      "execution_count": 3,
      "outputs": [
        {
          "output_type": "stream",
          "name": "stdout",
          "text": [
            "Requirement already satisfied: pyspark in /usr/local/lib/python3.11/dist-packages (3.5.1)\n",
            "Requirement already satisfied: py4j==0.10.9.7 in /usr/local/lib/python3.11/dist-packages (from pyspark) (0.10.9.7)\n"
          ]
        }
      ]
    },
    {
      "cell_type": "code",
      "source": [
        "import pandas as pd\n",
        "from pyspark.sql import SparkSession\n",
        "from pyspark.sql.functions import avg\n",
        "\n",
        "# Dataset en Pandas\n",
        "datos_peliculas = pd.DataFrame({\n",
        "    'ID': [1, 2, 3, 4],\n",
        "    'Título': ['Película1', 'Película2', 'Película3', 'Película4'],\n",
        "    'Año': [2020, 2019, 2021, 2018]\n",
        "})\n",
        "\n",
        "# Iniciar sesion de Spark\n",
        "spark = SparkSession.builder.appName(\"IntegracionPandasSpark\").getOrCreate()\n",
        "\n",
        "# Dataset en Spark\n",
        "criticas = spark.createDataFrame([\n",
        "    (1, \"Critico1\", 4.5),\n",
        "    (2, \"Critico2\", 3.8),\n",
        "    (3, \"Critico1\", 4.2),\n",
        "    (4, \"Critico3\", 4.7)\n",
        "], [\"PeliculaID\", \"Critico\", \"Puntuacion\"])\n",
        "\n",
        "# Agrupar por ID de pelicula, calcular promedio\n",
        "promedios_spark = criticas.groupBy(\"PeliculaID\").agg(avg(\"Puntuacion\").alias(\"PuntuacionPromedio\"))\n",
        "\n",
        "promedios_pandas = promedios_spark.toPandas()\n",
        "\n",
        "# Realizar Join:  datos_peliculas.ID == promedios_pandas.PeliculaID\n",
        "resultado = datos_peliculas.merge(promedios_pandas, left_on=\"ID\", right_on=\"PeliculaID\")\n",
        "\n",
        "# Seleccion de columnas\n",
        "resultado_final = resultado[[\"Título\", \"Año\", \"PuntuacionPromedio\"]]\n",
        "\n",
        "# Imprimir resultado\n",
        "print(resultado_final)\n"
      ],
      "metadata": {
        "colab": {
          "base_uri": "https://localhost:8080/"
        },
        "id": "7UosYZmJb69H",
        "outputId": "f9f73145-2059-4a1c-bb61-3264f2d50d8b"
      },
      "execution_count": 5,
      "outputs": [
        {
          "output_type": "stream",
          "name": "stdout",
          "text": [
            "      Título   Año  PuntuacionPromedio\n",
            "0  Película1  2020                 4.5\n",
            "1  Película2  2019                 3.8\n",
            "2  Película3  2021                 4.2\n",
            "3  Película4  2018                 4.7\n"
          ]
        }
      ]
    },
    {
      "cell_type": "markdown",
      "source": [
        "Ejercicio 4: Web Scrapping\n",
        "\n",
        "Supongamos que deseas obtener el precio actual del Bitcoin (BTC) de un sitio\n",
        "web de criptomonedas. La información que necesitas se encuentra en la página\n",
        "de https://coinmarketcap.com/currencies/bitcoin/.\n",
        "Tu tarea es escribir un script en Python que realice lo siguiente:\n",
        "1. Realiza una solicitud GET a la URL\n",
        "https://coinmarketcap.com/currencies/bitcoin/ utilizando la biblioteca\n",
        "`requests`.\n",
        "2. Analiza el contenido de la página web para extraer el precio actual del\n",
        "Bitcoin.\n",
        "3. Imprime el precio en la consola.\n",
        "A continuación, un esqueleto del código para empezar:\n",
        "```python\n",
        "import requests\n",
        "from bs4 import BeautifulSoup\n",
        "# URL de la página de CoinMarketCap\n",
        "url = 'https://coinmarketcap.com/currencies/bitcoin/'\n",
        "# Realiza una solicitud GET para obtener el contenido de la página\n",
        "response = requests.get(url)\n",
        "# Verifica si la solicitud fue exitosa (código de respuesta 200)\n",
        "if response.status_code == 200:\n",
        " # Analiza el contenido de la página web con BeautifulSoup\n",
        " soup = BeautifulSoup(response.text, 'html.parser')\n",
        " # Encuentra el elemento que contiene el precio actual del Bitcoin\n",
        " # Pista: Inspecciona la página web para identificar el elemento\n",
        "adecuado\n",
        " # Extrae el precio del elemento y almacénalo en una variable\n",
        " # Imprime el precio en la consola\n",
        "else:\n",
        " print(f'Error al hacer la solicitud. Código de respuesta:\n",
        "{response.status_code}')\n",
        "```\n",
        "La tarea es completar el código, identificar el elemento HTML que contiene el\n",
        "precio del Bitcoin y extraer ese valor. Luego, imprime el precio en la consola.\n"
      ],
      "metadata": {
        "id": "iQoiScIHbii2"
      }
    },
    {
      "cell_type": "code",
      "source": [
        "import requests\n",
        "from bs4 import BeautifulSoup\n",
        "\n",
        "# URL de CoinMarketCap\n",
        "url = 'https://coinmarketcap.com/currencies/bitcoin/'\n",
        "\n",
        "# Encabezados para simulacion de navegador, mozilla por estabilidad\n",
        "headers = {\n",
        "    'User-Agent': 'Mozilla/5.0 (Windows NT 10.0; Win64; x64)'\n",
        "}\n",
        "\n",
        "response = requests.get(url, headers=headers)\n",
        "\n",
        "if response.status_code == 200:\n",
        "    # Analizando el contenido con BeautifulSoup\n",
        "    soup = BeautifulSoup(response.text, 'html.parser')\n",
        "\n",
        "    # Busca el elemento que contiene el precio, el dia de hoy 2025-06-22 es esa clase esyGGG\n",
        "    price_tag = soup.find('span', class_='esyGGG')\n",
        "\n",
        "    if price_tag:\n",
        "        price = price_tag.text\n",
        "        print(f'El precio actual de Bitcoin en CoinMarketCap es: {price}')\n",
        "    else:\n",
        "        print('No se pudo encontrar el precio en la página CoinMarketCap.')\n",
        "else:\n",
        "    print(f'Error al hacer la solicitud. Código de respuesta: {response.status_code}')"
      ],
      "metadata": {
        "colab": {
          "base_uri": "https://localhost:8080/"
        },
        "id": "AjIoMFlwg6Zb",
        "outputId": "8634eb70-e9a9-49cf-fed2-4874a3f4d476"
      },
      "execution_count": 9,
      "outputs": [
        {
          "output_type": "stream",
          "name": "stdout",
          "text": [
            "El precio actual de Bitcoin en CoinMarketCap es: $101,119.04\n"
          ]
        }
      ]
    },
    {
      "cell_type": "markdown",
      "source": [
        "Serie de preguntas:\n",
        "\n",
        "Respuestas estan en negrita.\n",
        "\n",
        "¿Cuál de las siguientes plataformas de Microsoft es una solución de análisis de big data en\n",
        "la nube?\n",
        "a) Azure SQL Database\n",
        "b) **Azure Synapse Analytics**\n",
        "c) Azure Data Factory\n",
        "d) Azure Active Directory\n",
        "\n",
        "En el contexto de Azure Data Factory, ¿cuál de las siguientes actividades se utiliza para\n",
        "transformar y limpiar datos en un flujo de trabajo?\n",
        "a) HDInsight Spark\n",
        "b) Azure Databricks\n",
        "c) **Data Flow**\n",
        "d) Azure Stream Analytics\n",
        "\n",
        "¿Cuál de las siguientes opciones es una característica clave de Apache Spark que permite\n",
        "procesar datos en memoria para un rendimiento más rápido?\n",
        "a) Apache Hadoop\n",
        "b) Apache Flink\n",
        "c) Spark Streaming\n",
        "d) **Resilient Distributed Dataset (RDD)**\n",
        "\n",
        "En el contexto de Pandas, ¿cuál de las siguientes operaciones se utiliza para eliminar filas\n",
        "duplicadas de un DataFrame?\n",
        "a) df.groupby()\n",
        "b) **df.drop_duplicates()**\n",
        "c) df.fillna()\n",
        "d) df.pivot_table()\n",
        "\n",
        "¿Qué lenguaje de programación se utiliza comúnmente en Azure Databricks para el\n",
        "procesamiento de datos y análisis?\n",
        "a) R\n",
        "b) Java\n",
        "c) **Scala**\n",
        "d) C#\n"
      ],
      "metadata": {
        "id": "CLYNOKd7jFc6"
      }
    }
  ]
}